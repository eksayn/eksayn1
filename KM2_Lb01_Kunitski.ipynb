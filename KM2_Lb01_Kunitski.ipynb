{
 "cells": [
  {
   "cell_type": "markdown",
   "id": "33dd8c22",
   "metadata": {},
   "source": [
    "# Лабораторная работа 1\n",
    "## Задача о падении тела. Построение графиков функций"
   ]
  },
  {
   "cell_type": "markdown",
   "id": "dcfd430b",
   "metadata": {},
   "source": [
    "## Куницкий Тимофей Александрович, 13.02.2025"
   ]
  },
  {
   "cell_type": "markdown",
   "id": "806dfab3",
   "metadata": {},
   "source": [
    "## Задание 1.1. Задача о падении тела"
   ]
  },
  {
   "cell_type": "markdown",
   "id": "6124adad",
   "metadata": {},
   "source": [
    "### Этап 1. Импортирование модулей"
   ]
  },
  {
   "cell_type": "code",
   "execution_count": 112,
   "id": "e7196dc8",
   "metadata": {},
   "outputs": [],
   "source": [
    "import math "
   ]
  },
  {
   "cell_type": "code",
   "execution_count": 113,
   "id": "6d8c6310",
   "metadata": {
    "scrolled": true
   },
   "outputs": [
    {
     "data": {
      "text/plain": [
       "1.0"
      ]
     },
     "execution_count": 113,
     "metadata": {},
     "output_type": "execute_result"
    }
   ],
   "source": [
    "math.sin(math.pi/2)"
   ]
  },
  {
   "cell_type": "code",
   "execution_count": 114,
   "id": "c81c6b11",
   "metadata": {},
   "outputs": [],
   "source": [
    "import numpy as np"
   ]
  },
  {
   "cell_type": "code",
   "execution_count": 115,
   "id": "b149416d",
   "metadata": {},
   "outputs": [],
   "source": [
    "import matplotlib.pyplot as plt"
   ]
  },
  {
   "cell_type": "code",
   "execution_count": 116,
   "id": "cba95593",
   "metadata": {},
   "outputs": [],
   "source": [
    "import scipy.constants as const"
   ]
  },
  {
   "cell_type": "code",
   "execution_count": 117,
   "id": "aec982a4",
   "metadata": {},
   "outputs": [],
   "source": [
    "import sympy"
   ]
  },
  {
   "cell_type": "markdown",
   "id": "f8d4c33e",
   "metadata": {},
   "source": [
    "### Этап 2. Создание переменных"
   ]
  },
  {
   "cell_type": "code",
   "execution_count": 118,
   "id": "3e946647",
   "metadata": {},
   "outputs": [],
   "source": [
    "h_start = 1\n",
    "h_end = 3.0E+0\n",
    "T = 3.0\n",
    "s_end = 5.0e0"
   ]
  },
  {
   "cell_type": "code",
   "execution_count": 119,
   "id": "1827b5d1",
   "metadata": {},
   "outputs": [
    {
     "data": {
      "text/plain": [
       "1"
      ]
     },
     "execution_count": 119,
     "metadata": {},
     "output_type": "execute_result"
    }
   ],
   "source": [
    "h_end\n",
    "h_start"
   ]
  },
  {
   "cell_type": "code",
   "execution_count": 120,
   "id": "5c357927",
   "metadata": {},
   "outputs": [
    {
     "name": "stdout",
     "output_type": "stream",
     "text": [
      "1 3.0\n"
     ]
    }
   ],
   "source": [
    "print(h_start, h_end)"
   ]
  },
  {
   "cell_type": "code",
   "execution_count": 121,
   "id": "456e1d5a",
   "metadata": {},
   "outputs": [
    {
     "data": {
      "text/plain": [
       "(9.80665, 'm s^-2')"
      ]
     },
     "execution_count": 121,
     "metadata": {},
     "output_type": "execute_result"
    }
   ],
   "source": [
    "g = const.g\n",
    "g, const.unit('standard acceleration of gravity')"
   ]
  },
  {
   "cell_type": "code",
   "execution_count": 122,
   "id": "469a5777",
   "metadata": {},
   "outputs": [
    {
     "name": "stdout",
     "output_type": "stream",
     "text": [
      "6.02214076e+23 3.141592653589793 299792458.0\n"
     ]
    }
   ],
   "source": [
    "print(const.Avogadro, const.pi,const.c)"
   ]
  },
  {
   "cell_type": "code",
   "execution_count": 123,
   "id": "991dc6c3",
   "metadata": {},
   "outputs": [],
   "source": [
    "step = 0.01\n",
    "t_list = [0 + i*step for i in range(int(T/0.01))]\n",
    "t_array = np.arange(0,T,step)\n"
   ]
  },
  {
   "cell_type": "markdown",
   "id": "83cd1d14",
   "metadata": {},
   "source": [
    "range - возвращает последовательность чисел от start(=0 по умолчанию) до stop(необязательно, конечное значение не включается) c шагом step(необязательно.Должен быть целочисленным). range(start, stop, step) возваращет объект типа range"
   ]
  },
  {
   "cell_type": "code",
   "execution_count": 124,
   "id": "909e99bb",
   "metadata": {},
   "outputs": [
    {
     "data": {
      "text/plain": [
       "range(3, 8, 2)"
      ]
     },
     "execution_count": 124,
     "metadata": {},
     "output_type": "execute_result"
    }
   ],
   "source": [
    "range(3, 8,2)\n",
    "    "
   ]
  },
  {
   "cell_type": "markdown",
   "id": "1e3194f4",
   "metadata": {},
   "source": [
    "arange() возвращает одномерный массив с значениями от start до stop(невключая) c шагом step(может быть вещественным).  \n",
    "np.arange(start,stop, step) возвращает объект типа ndarray."
   ]
  },
  {
   "cell_type": "code",
   "execution_count": 125,
   "id": "a2182266",
   "metadata": {},
   "outputs": [
    {
     "data": {
      "text/plain": [
       "array([1, 3, 5, 7, 9])"
      ]
     },
     "execution_count": 125,
     "metadata": {},
     "output_type": "execute_result"
    }
   ],
   "source": [
    "np.arange(1,10,2)\n"
   ]
  },
  {
   "cell_type": "markdown",
   "id": "54a443f4",
   "metadata": {},
   "source": [
    "### Этап 3. Опредление функции перемещения и нахождения угла запуска тела"
   ]
  },
  {
   "cell_type": "markdown",
   "id": "a54a5316",
   "metadata": {},
   "source": [
    "Чтобы получить аналитический вид фунции (s_x(t),s_y(t)) можно\n",
    "проинтегрировать $$(s_x)''(t)=0$$ и $$(s_y)''(t)=0$$. Получим :\n",
    "$$(s_x)'(t)=v0_x$$\n",
    "$$s_x(t) = v0_x*t+s_x(0)$$\n",
    "$$(s_y)'(t) = -gt+v0_y$$\n",
    "$$s_y(t)= s_y(0)+v0_y*t - g*t^2/2$$\n",
    "Итоговые выражения:\n",
    "$$s_x(t) = v0_x*t$$\n",
    "$$s_y(t) = h_start + v0_y*t -g*t^2/2$$\n"
   ]
  },
  {
   "cell_type": "code",
   "execution_count": 126,
   "id": "07528676",
   "metadata": {},
   "outputs": [
    {
     "data": {
      "text/plain": [
       "1.6666666666666667"
      ]
     },
     "execution_count": 126,
     "metadata": {},
     "output_type": "execute_result"
    }
   ],
   "source": [
    "v0_x = s_end/T\n",
    "v0_x"
   ]
  },
  {
   "cell_type": "code",
   "execution_count": 127,
   "id": "a58dc663",
   "metadata": {},
   "outputs": [
    {
     "data": {
      "text/plain": [
       "15.376641666666666"
      ]
     },
     "execution_count": 127,
     "metadata": {},
     "output_type": "execute_result"
    }
   ],
   "source": [
    "v0_y = (h_end - h_start + g/2*T**2)/T\n",
    "v0_y"
   ]
  },
  {
   "cell_type": "code",
   "execution_count": 128,
   "id": "c1eca46b",
   "metadata": {},
   "outputs": [
    {
     "data": {
      "text/plain": [
       "(1.462828312588189, 83.81388846354714)"
      ]
     },
     "execution_count": 128,
     "metadata": {},
     "output_type": "execute_result"
    }
   ],
   "source": [
    "alpha = math.atan(v0_y/v0_x)\n",
    "alpha, math.degrees(alpha)"
   ]
  },
  {
   "cell_type": "code",
   "execution_count": 129,
   "id": "f871fc46",
   "metadata": {},
   "outputs": [
    {
     "data": {
      "text/plain": [
       "'s_x(t)= 1.6666666666666667 t'"
      ]
     },
     "execution_count": 129,
     "metadata": {},
     "output_type": "execute_result"
    }
   ],
   "source": [
    "f's_x(t)= {v0_x} t'"
   ]
  },
  {
   "cell_type": "code",
   "execution_count": 130,
   "id": "38ad9204",
   "metadata": {},
   "outputs": [
    {
     "data": {
      "text/plain": [
       "'s_y(t) = 1 + 15.3766 t - 9.80665/2*t²'"
      ]
     },
     "execution_count": 130,
     "metadata": {},
     "output_type": "execute_result"
    }
   ],
   "source": [
    "f's_y(t) = {h_start} + {v0_y:.6} t - {g:.6}/2*t\\N{superscript two}'"
   ]
  },
  {
   "cell_type": "markdown",
   "id": "81c57692",
   "metadata": {},
   "source": [
    "### Этап 4. Построение графика траектории движения тела"
   ]
  },
  {
   "cell_type": "code",
   "execution_count": 131,
   "id": "fdab0353",
   "metadata": {},
   "outputs": [],
   "source": [
    "t_list, t_array;"
   ]
  },
  {
   "cell_type": "code",
   "execution_count": 132,
   "id": "676ef431",
   "metadata": {},
   "outputs": [],
   "source": [
    "s_x_list = [v0_x*t for t in t_list]\n",
    "s_y_list = [h_start + v0_y*t - g*t**2/2 for t in t_list]\n"
   ]
  },
  {
   "cell_type": "code",
   "execution_count": 133,
   "id": "74836fe9",
   "metadata": {},
   "outputs": [],
   "source": [
    "s_x_array = v0_x*t_array\n",
    "s_y_array = h_start + v0_y*t_array - g*t_array**2/2\n"
   ]
  },
  {
   "cell_type": "code",
   "execution_count": 134,
   "id": "8d2492fe",
   "metadata": {},
   "outputs": [
    {
     "data": {
      "text/plain": [
       "(0.0, 5.0, 0.0, 14.0)"
      ]
     },
     "execution_count": 134,
     "metadata": {},
     "output_type": "execute_result"
    },
    {
     "data": {
      "image/png": "[encoded data removed]",
      "text/plain": [
       "<Figure size 432x288 with 1 Axes>"
      ]
     },
     "metadata": {
      "needs_background": "light"
     },
     "output_type": "display_data"
    }
   ],
   "source": [
    "plt.figure()\n",
    "plt.plot(s_x_list,s_y_list,'b-',lw=5)\n",
    "plt.title('Вертикальное перемещение тела')\n",
    "plt.xlabel('x(m)'); plt.ylabel('y(m)')\n",
    "\n",
    "plt.axis([0, s_end, 0, h_end+11])"
   ]
  },
  {
   "cell_type": "code",
   "execution_count": 135,
   "id": "e03a2516",
   "metadata": {},
   "outputs": [
    {
     "data": {
      "text/plain": [
       "(0.0, 14.0)"
      ]
     },
     "execution_count": 135,
     "metadata": {},
     "output_type": "execute_result"
    },
    {
     "data": {
      "image/png": "[encoded data removed]",
      "text/plain": [
       "<Figure size 432x288 with 1 Axes>"
      ]
     },
     "metadata": {
      "needs_background": "light"
     },
     "output_type": "display_data"
    }
   ],
   "source": [
    "plt.figure()\n",
    "plt.plot(s_x_array,s_y_array,color='green',lw=3)\n",
    "plt.title('Вертикальное перемещение тела')\n",
    "plt.xlabel('x(m)'); plt.ylabel('y(m)')\n",
    "plt.xlim(0,s_end)\n",
    "plt.ylim(0, h_end+11)"
   ]
  },
  {
   "cell_type": "markdown",
   "id": "ae0850d0",
   "metadata": {},
   "source": [
    "## Задание 1.2. Построение графиков функций"
   ]
  },
  {
   "cell_type": "code",
   "execution_count": 136,
   "id": "9062c46d",
   "metadata": {},
   "outputs": [
    {
     "data": {
      "text/plain": [
       "[-0.0637382309488101, 3.19970039267921]"
      ]
     },
     "execution_count": 136,
     "metadata": {},
     "output_type": "execute_result"
    }
   ],
   "source": [
    "\n",
    "t = sympy.symbols('t')\n",
    "result = sympy.solve(h_start + v0_y*t-g*t**2/2,t)\n",
    "result"
   ]
  },
  {
   "cell_type": "code",
   "execution_count": 137,
   "id": "57a01330",
   "metadata": {},
   "outputs": [
    {
     "data": {
      "text/latex": [
       "$\\displaystyle 3.19970039267921$"
      ],
      "text/plain": [
       "3.19970039267921"
      ]
     },
     "execution_count": 137,
     "metadata": {},
     "output_type": "execute_result"
    }
   ],
   "source": [
    "t_star_exact = result[-1]\n",
    "t_star_exact"
   ]
  },
  {
   "cell_type": "markdown",
   "id": "139e7f79",
   "metadata": {},
   "source": [
    "Функция symbols() в библиотеке SymPy предназначена для создания и возврата символьных объектов (или кортежа таких объектов), используемых в символьных вычислениях. Ее вызов осуществляется следующим образом:  \n",
    "sympy.symbols(names, **kwargs), где kwargs – необязательный параметр, определяющий свойства символов, например: real=True, positive=True и другие.  \n",
    "\n",
    "Функция solve используется для нахождения решений уравнений или систем уравнений. Вызов функции осуществляется так:  \n",
    "sympy.solve(equations, variables=None, **kwargs), где kwargs позволяет задать дополнительные параметры, например:  \n",
    "dict=True – выводит решения в виде словаря,  \n",
    "set=True – возвращает решения в формате множества,  \n",
    "check=True/False – включает или отключает проверку корней."
   ]
  },
  {
   "cell_type": "code",
   "execution_count": 138,
   "id": "cf397d43",
   "metadata": {},
   "outputs": [
    {
     "name": "stdout",
     "output_type": "stream",
     "text": [
      "[-sqrt(5)*I, sqrt(5)*I] [-3**(1/3), 3**(1/3)/2 - 3**(5/6)*I/2, 3**(1/3)/2 + 3**(5/6)*I/2]\n"
     ]
    }
   ],
   "source": [
    "#1 пример\n",
    "x=sympy.symbols('x')\n",
    "y=x**2+5\n",
    "res1=sympy.solve(y,x)\n",
    "#2 пример\n",
    "x=sympy.symbols('x')\n",
    "y=x**3+3\n",
    "res2=sympy.solve(y,x)\n",
    "print(res1,res2)"
   ]
  },
  {
   "cell_type": "code",
   "execution_count": 139,
   "id": "deafcb3c",
   "metadata": {},
   "outputs": [],
   "source": [
    "t_list= [i*step for i in range(int(1.5*T/step))]\n",
    "s_y = [h_start + v0_y*t - g*t**2/2 for t in t_list]\n",
    "for k,y in enumerate(s_y):\n",
    "    if (y)<0:\n",
    "        points_x = [(k-1)*step,k*step]\n",
    "        points_y = [s_y[k-1],y]\n",
    "        \n",
    "        break;\n",
    "\n"
   ]
  },
  {
   "cell_type": "code",
   "execution_count": 140,
   "id": "386c7d14",
   "metadata": {},
   "outputs": [
    {
     "data": {
      "text/plain": [
       "(3.198, 3.2, -0.004794666666676051, 0.004761384166661747)"
      ]
     },
     "execution_count": 140,
     "metadata": {},
     "output_type": "execute_result"
    },
    {
     "data": {
      "image/png": "[encoded data removed]",
      "text/plain": [
       "<Figure size 432x288 with 1 Axes>"
      ]
     },
     "metadata": {
      "needs_background": "light"
     },
     "output_type": "display_data"
    }
   ],
   "source": [
    "plt.figure()\n",
    "plt.plot(points_x,points_y)\n",
    "plt.plot(points_x, [0,0])\n",
    "plt.axis([3.198, 3.2, points_y[1],points_y[0]-0.15])"
   ]
  },
  {
   "cell_type": "markdown",
   "id": "0bbe3068",
   "metadata": {},
   "source": [
    "Воспользуемся уравнением $$y=k*x+b$$. Коэффициент $$k=(y2-y1/x2-x1)$$\n",
    "$$b=y1-k*x1$$\n",
    "Найдём x0 при y=0 \n",
    "$$x0=-b/k$$"
   ]
  },
  {
   "cell_type": "code",
   "execution_count": 141,
   "id": "00c69005",
   "metadata": {},
   "outputs": [
    {
     "data": {
      "text/plain": [
       "3.1996994995400283"
      ]
     },
     "execution_count": 141,
     "metadata": {},
     "output_type": "execute_result"
    }
   ],
   "source": [
    "k=(points_y[1]-points_y[0])/(points_x[1]-points_x[0])\n",
    "b=points_y[0]-k*points_x[0]\n",
    "x0=-b/k\n",
    "x0"
   ]
  },
  {
   "cell_type": "code",
   "execution_count": 142,
   "id": "027563aa",
   "metadata": {},
   "outputs": [
    {
     "name": "stdout",
     "output_type": "stream",
     "text": [
      "Относительная ошибка: 2.79132127839983E-7\n"
     ]
    }
   ],
   "source": [
    "print(f\"Относительная ошибка: {(t_star_exact-x0)/t_star_exact}\")"
   ]
  },
  {
   "cell_type": "markdown",
   "id": "7dc1adb5",
   "metadata": {},
   "source": [
    "### Задание 1.3. Построение секущей, касательной и нормали к графику функции"
   ]
  },
  {
   "cell_type": "code",
   "execution_count": 143,
   "id": "f22d7c3d",
   "metadata": {},
   "outputs": [
    {
     "data": {
      "text/plain": [
       "(array([0., 1.]), array([4.98333333, 3.13994275]))"
      ]
     },
     "execution_count": 143,
     "metadata": {},
     "output_type": "execute_result"
    }
   ],
   "source": [
    "p_start = np.array([s_x_array[0],s_y_array[0]])\n",
    "p_end = np.array([s_x_array[-1],s_y_array[-1]])\n",
    "p_start, p_end"
   ]
  },
  {
   "cell_type": "code",
   "execution_count": 144,
   "id": "220e10ae",
   "metadata": {},
   "outputs": [
    {
     "data": {
      "text/plain": [
       "array([4.98333333, 2.13994275])"
      ]
     },
     "execution_count": 144,
     "metadata": {},
     "output_type": "execute_result"
    }
   ],
   "source": [
    "a = p_end-p_start\n",
    "a"
   ]
  },
  {
   "cell_type": "code",
   "execution_count": 145,
   "id": "eee422fa",
   "metadata": {},
   "outputs": [
    {
     "data": {
      "text/plain": [
       "(array([[-4.98333333, -1.13994275],\n",
       "        [ 9.96666667,  5.2798855 ]]),\n",
       " array([-4.98333333,  9.96666667]))"
      ]
     },
     "execution_count": 145,
     "metadata": {},
     "output_type": "execute_result"
    }
   ],
   "source": [
    "p = [p_start + a*t for t in [-1, 2]] \n",
    "p = np.array(p)\n",
    "p,p[:,0]"
   ]
  },
  {
   "cell_type": "code",
   "execution_count": 146,
   "id": "e394d7b8",
   "metadata": {},
   "outputs": [
    {
     "data": {
      "image/png": "[encoded data removed]",
      "text/plain": [
       "<Figure size 432x288 with 1 Axes>"
      ]
     },
     "metadata": {
      "needs_background": "light"
     },
     "output_type": "display_data"
    }
   ],
   "source": [
    "fig = plt.figure()\n",
    "plt.plot(s_x_array,s_y_array,'b-',lw=5)\n",
    "plt.plot(p[:,0],p[0:,1],'--',color='red',lw=1) # обратите внимание не специальную\n",
    "plt.xlabel('x (m)'); plt.ylabel('y (m)')\n",
    "plt.axis([-5, s_end+5, 0, h_end+11]);"
   ]
  },
  {
   "cell_type": "markdown",
   "id": "e98172bc",
   "metadata": {},
   "source": [
    "$$k1=tga=f'(x), k=v0_y - g * t0$$\n",
    "\n",
    "Чтобы найти нормаль воспользуемся свойством перпендикулярный прямый : k1*k2=-1\n",
    "    \n",
    "$$k2=-1/k1$$\n",
    "\n",
    "$$y=k2*x+h_start$$"
   ]
  },
  {
   "cell_type": "code",
   "execution_count": 147,
   "id": "ec5da78a",
   "metadata": {},
   "outputs": [],
   "source": [
    "k1=v0_y -g*t_array[0]\n",
    "x_array = np.arange(-1,T,0.01)\n",
    "y1_array = k1*x_array+h_start\n",
    "\n",
    "k2=-1/k1\n",
    "\n",
    "y2_array = k2*x_array + h_start"
   ]
  },
  {
   "cell_type": "code",
   "execution_count": 148,
   "id": "81f3e4ae",
   "metadata": {},
   "outputs": [
    {
     "data": {
      "image/png": "[encoded data removed]",
      "text/plain": [
       "<Figure size 432x288 with 1 Axes>"
      ]
     },
     "metadata": {
      "needs_background": "light"
     },
     "output_type": "display_data"
    }
   ],
   "source": [
    "fig = plt.figure()\n",
    "plt.plot(s_x_array,s_y_array,'b-',lw=5)\n",
    "plt.plot(p[:,0],p[0:,1],'--',color='red',lw=1) # обратите внимание не специальную\n",
    "plt.plot(x_array,y1_array, lw=3,color='yellow')\n",
    "plt.plot(x_array,y2_array, lw=3,color='brown')\n",
    "plt.xlabel('x (m)'); plt.ylabel('y (m)')\n",
    "plt.axis([-5, s_end+5, 0, h_end+11]);"
   ]
  },
  {
   "cell_type": "markdown",
   "id": "826314df",
   "metadata": {},
   "source": [
    "## Задание 1.4 Построение графиков функции"
   ]
  },
  {
   "cell_type": "code",
   "execution_count": 149,
   "id": "de36d3f0",
   "metadata": {},
   "outputs": [
    {
     "data": {
      "image/png": "[encoded data removed]",
      "text/plain": [
       "<Figure size 432x288 with 1 Axes>"
      ]
     },
     "metadata": {
      "needs_background": "light"
     },
     "output_type": "display_data"
    }
   ],
   "source": [
    "\n",
    "plt.figure()\n",
    "# установка способа отображения осей\n",
    "plt.axes(projection='polar')\n",
    "# подготовка данных\n",
    "phi = np.arange(-np.pi/2, np.pi/2, 0.05)\n",
    "r = phi**3+phi\n",
    "# построение графика\n",
    "plt.plot(phi + (r<0)*np.pi,abs(r),'r.');"
   ]
  },
  {
   "cell_type": "markdown",
   "id": "7b7e1cf5",
   "metadata": {},
   "source": [
    " 6. а) Улитка Паскаля"
   ]
  },
  {
   "cell_type": "code",
   "execution_count": 150,
   "id": "4342433f",
   "metadata": {},
   "outputs": [
    {
     "data": {
      "text/plain": [
       "[<matplotlib.lines.Line2D at 0x23a76320b80>]"
      ]
     },
     "execution_count": 150,
     "metadata": {},
     "output_type": "execute_result"
    },
    {
     "data": {
      "image/png": "[encoded data removed]",
      "text/plain": [
       "<Figure size 432x288 with 1 Axes>"
      ]
     },
     "metadata": {
      "needs_background": "light"
     },
     "output_type": "display_data"
    }
   ],
   "source": [
    "plt.figure()\n",
    "plt.axes(projection='polar')\n",
    "phi = np.arange(-np.pi/2, np.pi/2, 0.05)\n",
    "a = 1\n",
    "l = 1\n",
    "r1 = 2 * a * np.cos(phi) + l\n",
    "r2 = 2 * a * np.cos(phi) - l\n",
    "plt.plot(phi + (r1 < 0) * np.pi, abs(r1), 'r.')\n",
    "plt.plot(phi + (r2 < 0) * np.pi, abs(r2), 'b.')\n"
   ]
  },
  {
   "cell_type": "code",
   "execution_count": 151,
   "id": "56c3f1e1",
   "metadata": {},
   "outputs": [
    {
     "data": {
      "text/plain": [
       "Text(0, 0.5, 'y')"
      ]
     },
     "execution_count": 151,
     "metadata": {},
     "output_type": "execute_result"
    },
    {
     "data": {
      "image/png": "[encoded data removed]",
      "text/plain": [
       "<Figure size 432x288 with 1 Axes>"
      ]
     },
     "metadata": {
      "needs_background": "light"
     },
     "output_type": "display_data"
    }
   ],
   "source": [
    "t = np.arange(-6, 0, 0.01)\n",
    "x = 1 / np.tan(2 * np.exp(t))\n",
    "y = np.log(np.tan(np.exp(t)))\n",
    "plt.figure()\n",
    "plt.plot(x, y, 'b.')\n",
    "plt.xlabel('x'); plt.ylabel('y')"
   ]
  },
  {
   "cell_type": "code",
   "execution_count": null,
   "id": "85b47da8",
   "metadata": {},
   "outputs": [],
   "source": []
  }
 ],
 "metadata": {
  "kernelspec": {
   "display_name": "Python 3 (ipykernel)",
   "language": "python",
   "name": "python3"
  },
  "language_info": {
   "codemirror_mode": {
    "name": "ipython",
    "version": 3
   },
   "file_extension": ".py",
   "mimetype": "text/x-python",
   "name": "python",
   "nbconvert_exporter": "python",
   "pygments_lexer": "ipython3",
   "version": "3.9.12"
  }
 },
 "nbformat": 4,
 "nbformat_minor": 5
}
