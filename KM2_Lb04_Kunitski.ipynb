{
 "cells": [
  {
   "cell_type": "markdown",
   "id": "d1b4cc2e",
   "metadata": {},
   "source": [
    "# Лабораторная работа 4\n",
    "## Задача о падении тела. Построение графиков функций\n",
    "\n",
    "## Куницкий Тимофей Александрович, 02.04.2025\n",
    "\n"
   ]
  },
  {
   "cell_type": "code",
   "execution_count": 2,
   "id": "7a388d7e",
   "metadata": {},
   "outputs": [],
   "source": [
    "import numpy as np\n",
    "import matplotlib.pyplot as plt"
   ]
  },
  {
   "cell_type": "code",
   "execution_count": 3,
   "id": "dd768f95",
   "metadata": {},
   "outputs": [],
   "source": [
    "n = 3 # количество вершин треугольника Рело\n",
    "center = np.array([0,0]) # координаты центра треугольника Рело\n",
    "r = 10. # ширина треугольника Рело\n",
    "N = 100 # количество точек для описания одной стороны треугольника Рело"
   ]
  },
  {
   "cell_type": "code",
   "execution_count": 4,
   "id": "783fc444",
   "metadata": {},
   "outputs": [
    {
     "name": "stdout",
     "output_type": "stream",
     "text": [
      "10.0 9.999999999999998\n"
     ]
    }
   ],
   "source": [
    "l = r\n",
    "l1 = 2*r*np.sin(np.pi/(2*n))\n",
    "print(l,l1)"
   ]
  },
  {
   "cell_type": "code",
   "execution_count": 5,
   "id": "8eb353dc",
   "metadata": {},
   "outputs": [
    {
     "data": {
      "text/plain": [
       "5.773502691896258"
      ]
     },
     "execution_count": 5,
     "metadata": {},
     "output_type": "execute_result"
    }
   ],
   "source": [
    "R = l/(2*np.sin(np.pi/n))\n",
    "R"
   ]
  },
  {
   "cell_type": "code",
   "execution_count": 6,
   "id": "a7057a71",
   "metadata": {},
   "outputs": [
    {
     "data": {
      "text/plain": [
       "array([[ 5.77350269,  0.        ],\n",
       "       [-2.88675135,  5.        ],\n",
       "       [-2.88675135, -5.        ]])"
      ]
     },
     "execution_count": 6,
     "metadata": {},
     "output_type": "execute_result"
    }
   ],
   "source": [
    "t = np.arange(0,2*np.pi,2*np.pi/n)\n",
    "\n",
    "vertices = center + R*np.transpose([np.cos(t), np.sin(t)]) \n",
    "vertices\n"
   ]
  },
  {
   "cell_type": "code",
   "execution_count": 7,
   "id": "d551148d",
   "metadata": {},
   "outputs": [
    {
     "data": {
      "text/plain": [
       "(5.773502691896258, array([5.77350269, 0.        ]), array([ 0.,  5., -5.]))"
      ]
     },
     "execution_count": 7,
     "metadata": {},
     "output_type": "execute_result"
    }
   ],
   "source": [
    "vertices[0,0], vertices[0,:], vertices[:,1]"
   ]
  },
  {
   "cell_type": "code",
   "execution_count": 8,
   "id": "1a7efee7",
   "metadata": {},
   "outputs": [
    {
     "data": {
      "image/png": "[encoded data removed]",
      "text/plain": [
       "<Figure size 432x288 with 1 Axes>"
      ]
     },
     "metadata": {
      "needs_background": "light"
     },
     "output_type": "display_data"
    }
   ],
   "source": [
    "plt.plot(vertices[:,0],vertices[:,1],'r.',markersize=20)\n",
    "plt.axis('equal');"
   ]
  },
  {
   "cell_type": "code",
   "execution_count": 9,
   "id": "d7af4ef4",
   "metadata": {},
   "outputs": [],
   "source": [
    "alpha = 2*np.pi/n \n",
    "beta = alpha/2\n",
    "angle = np.linspace(-beta/2, beta/2, N)"
   ]
  },
  {
   "cell_type": "code",
   "execution_count": 10,
   "id": "e955b5c9",
   "metadata": {},
   "outputs": [
    {
     "name": "stdout",
     "output_type": "stream",
     "text": [
      "[[-2.88675135  5.        ]\n",
      " [-2.93915464  4.90811596]\n",
      " [-2.99058309  4.81568276]\n",
      " [-3.04103094  4.72271075]\n",
      " [-3.09049256  4.62921032]\n",
      " [-3.1389624   4.53519194]\n",
      " [-3.18643505  4.44066613]\n",
      " [-3.23290519  4.34564346]\n",
      " [-3.27836762  4.25013456]\n",
      " [-3.32281726  4.15415013]]\n"
     ]
    }
   ],
   "source": [
    "side0 = vertices[0] + r*np.transpose([np.cos(angle + np.pi), \n",
    "np.sin(angle + np.pi)])\n",
    "print(side0[:10])"
   ]
  },
  {
   "cell_type": "code",
   "execution_count": 11,
   "id": "639eb380",
   "metadata": {},
   "outputs": [
    {
     "data": {
      "image/png": "[encoded data removed]",
      "text/plain": [
       "<Figure size 432x288 with 1 Axes>"
      ]
     },
     "metadata": {
      "needs_background": "light"
     },
     "output_type": "display_data"
    }
   ],
   "source": [
    "plt.plot(vertices[:,0],vertices[:,1],'r.',markersize=20)\n",
    "plt.plot(side0[:,0],side0[:,1],'b-',markersize=20)\n",
    "plt.axis('equal');"
   ]
  },
  {
   "cell_type": "code",
   "execution_count": 12,
   "id": "bdfc64eb",
   "metadata": {},
   "outputs": [],
   "source": [
    "side1 = vertices[1] + r*np.transpose([np.cos(angle + np.pi + alpha), \n",
    "np.sin(angle + np.pi + alpha)])"
   ]
  },
  {
   "cell_type": "code",
   "execution_count": 13,
   "id": "c3210202",
   "metadata": {},
   "outputs": [
    {
     "data": {
      "image/png": "[encoded data removed]",
      "text/plain": [
       "<Figure size 432x288 with 1 Axes>"
      ]
     },
     "metadata": {
      "needs_background": "light"
     },
     "output_type": "display_data"
    }
   ],
   "source": [
    "plt.plot(vertices[:,0],vertices[:,1],'r.',markersize=20)\n",
    "plt.plot(side0[:,0],side0[:,1],'b-',markersize=20)\n",
    "plt.plot(side1[:,0],side1[:,1],'g-',markersize=20)\n",
    "plt.axis('equal');\n"
   ]
  },
  {
   "cell_type": "code",
   "execution_count": 14,
   "id": "e78b142f",
   "metadata": {},
   "outputs": [],
   "source": [
    "list_sides = [vertices[i] + \n",
    "            r*np.transpose([np.cos(angle + np.pi + i*alpha), \n",
    "                            np.sin(angle + np.pi + i*alpha)]) \n",
    "            for i in range(n)]"
   ]
  },
  {
   "cell_type": "code",
   "execution_count": 15,
   "id": "2c453f3c",
   "metadata": {},
   "outputs": [],
   "source": [
    "sides = np.concatenate(list_sides)"
   ]
  },
  {
   "cell_type": "code",
   "execution_count": 16,
   "id": "47567ab6",
   "metadata": {},
   "outputs": [
    {
     "data": {
      "image/png": "[encoded data removed]",
      "text/plain": [
       "<Figure size 432x288 with 1 Axes>"
      ]
     },
     "metadata": {
      "needs_background": "light"
     },
     "output_type": "display_data"
    }
   ],
   "source": [
    "plt.plot(vertices[:,0],vertices[:,1],'r.',markersize=20)\n",
    "plt.plot(sides[:,0],sides[:,1],'b-',markersize=20)\n",
    "plt.axis('equal');"
   ]
  },
  {
   "cell_type": "markdown",
   "id": "eb3afcc4",
   "metadata": {},
   "source": [
    "## Часть 2"
   ]
  },
  {
   "cell_type": "code",
   "execution_count": 17,
   "id": "33fc6fe9",
   "metadata": {},
   "outputs": [],
   "source": [
    "\n",
    "n = 5 # количество вершин треугольника Рело\n",
    "center = np.array([0,0]) # координаты центра треугольника Рело\n",
    "r = 30. # ширина треугольника Рело\n",
    "N = 20 # количество точек для описания одной стороны треугольника Рело"
   ]
  },
  {
   "cell_type": "code",
   "execution_count": 18,
   "id": "b050123b",
   "metadata": {},
   "outputs": [],
   "source": [
    "l = 2*r*np.sin(np.pi/(2*n))\n",
    "\n",
    "R = l/(2*np.sin(np.pi/n))\n",
    "\n",
    "alpha = 2*np.pi/n \n",
    "beta = alpha/2\n",
    "angle = np.linspace(-beta/2, beta/2, N)\n"
   ]
  },
  {
   "cell_type": "code",
   "execution_count": 19,
   "id": "5c726b39",
   "metadata": {},
   "outputs": [
    {
     "data": {
      "text/plain": [
       "array([[ 15.77193336,   0.        ],\n",
       "       [  4.87379544,  15.        ],\n",
       "       [-12.75976213,   9.27050983],\n",
       "       [-12.75976213,  -9.27050983],\n",
       "       [  4.87379544, -15.        ]])"
      ]
     },
     "execution_count": 19,
     "metadata": {},
     "output_type": "execute_result"
    }
   ],
   "source": [
    "t = np.arange(0,2*np.pi,2*np.pi/n)\n",
    "\n",
    "vertices = center +R*np.transpose([np.cos(t), np.sin(t)]) \n",
    "vertices"
   ]
  },
  {
   "cell_type": "code",
   "execution_count": 20,
   "id": "064cf846",
   "metadata": {
    "scrolled": true
   },
   "outputs": [
    {
     "data": {
      "image/png": "[encoded data removed]",
      "text/plain": [
       "<Figure size 432x288 with 1 Axes>"
      ]
     },
     "metadata": {
      "needs_background": "light"
     },
     "output_type": "display_data"
    }
   ],
   "source": [
    "plt.plot(vertices[:,0],vertices[:,1],'r.',markersize=20)\n",
    "plt.axis('equal');"
   ]
  },
  {
   "cell_type": "code",
   "execution_count": null,
   "id": "09388b52",
   "metadata": {},
   "outputs": [],
   "source": []
  },
  {
   "cell_type": "code",
   "execution_count": 21,
   "id": "1eda326e",
   "metadata": {},
   "outputs": [],
   "source": [
    "list_sides = [vertices[i] + \n",
    "            r*np.transpose([np.cos(angle + np.pi + i*alpha), \n",
    "                            np.sin(angle + np.pi + i*alpha)]) \n",
    "            for i in range(n)]"
   ]
  },
  {
   "cell_type": "code",
   "execution_count": 22,
   "id": "5d3a28a1",
   "metadata": {},
   "outputs": [],
   "source": [
    "sides = np.concatenate(list_sides)"
   ]
  },
  {
   "cell_type": "code",
   "execution_count": 23,
   "id": "9667c555",
   "metadata": {},
   "outputs": [
    {
     "data": {
      "image/png": "[encoded data removed]",
      "text/plain": [
       "<Figure size 432x288 with 1 Axes>"
      ]
     },
     "metadata": {
      "needs_background": "light"
     },
     "output_type": "display_data"
    }
   ],
   "source": [
    "plt.plot(vertices[:,0],vertices[:,1],'r.',markersize=20)\n",
    "plt.plot(sides[:,0],sides[:,1],'b-',markersize=20)\n",
    "plt.axis('equal');"
   ]
  },
  {
   "cell_type": "code",
   "execution_count": 24,
   "id": "9ffcbed0",
   "metadata": {},
   "outputs": [],
   "source": [
    "plt.close()"
   ]
  },
  {
   "cell_type": "code",
   "execution_count": 41,
   "id": "bc3d1906",
   "metadata": {},
   "outputs": [
    {
     "name": "stdout",
     "output_type": "stream",
     "text": [
      "{'n': <class 'int'>, 'center': 'ndarray', 'r': <class 'int'>, 'N': <class 'int'>, 'return': 'matrix'}\n",
      "Строит многоугольник Рело\n"
     ]
    },
    {
     "data": {
      "image/png": "[encoded data removed]",
      "text/plain": [
       "<Figure size 432x288 with 1 Axes>"
      ]
     },
     "metadata": {
      "needs_background": "light"
     },
     "output_type": "display_data"
    }
   ],
   "source": [
    "def regular_polygon_Relo(n: int=3,center: 'ndarray'=np.array([0,0]) ,r: int=1,N:int =100)->'matrix':\n",
    "    \"\"\"Строит многоугольник Рело\"\"\"\n",
    "    assert n%2==1, 'Number of sides should be positive'\n",
    "    assert n>2, 'Number of sides should be greater than 2'\n",
    "    assert r>0, 'r should be greater than 0'\n",
    "    assert isinstance(N,int), 'N should be integer'\n",
    "    assert isinstance(r,int), 'r should be integer'\n",
    "    assert isinstance(n,int), 'n should be integer' \n",
    "    assert isinstance(center,np.ndarray), 'center should be ndarray'\n",
    "    l = 2*r*np.sin(np.pi/(2*n))\n",
    "    R = l/(2*np.sin(np.pi/n))\n",
    "    alpha = 2*np.pi/n \n",
    "    beta = alpha/2\n",
    "    angle = np.linspace(-beta/2, beta/2, N)\n",
    "    t = np.arange(0,2*np.pi,2*np.pi/n)\n",
    "    vertices = center +R*np.transpose([np.cos(t), np.sin(t)]) \n",
    "    list_sides = [vertices[i] + \n",
    "            r*np.transpose([np.cos(angle + np.pi + i*alpha), \n",
    "                            np.sin(angle + np.pi + i*alpha)]) \n",
    "            for i in range(n)]\n",
    "    sides = np.concatenate(list_sides)\n",
    "    return sides\n",
    "sides=regular_polygon_Relo()\n",
    "plt.plot(sides[:,0],sides[:,1],'b-',markersize=20)\n",
    "plt.axis('equal');\n",
    "print(regular_polygon_Relo.__annotations__)\n",
    "print(regular_polygon_Relo.__doc__)"
   ]
  },
  {
   "cell_type": "code",
   "execution_count": 42,
   "id": "df48843b",
   "metadata": {},
   "outputs": [
    {
     "data": {
      "image/png": "[encoded data removed]",
      "text/plain": [
       "<Figure size 432x288 with 1 Axes>"
      ]
     },
     "metadata": {
      "needs_background": "light"
     },
     "output_type": "display_data"
    }
   ],
   "source": [
    "import relo\n",
    "sides=relo.regular_polygon_Relo()\n",
    "plt.plot(sides[:,0],sides[:,1],'b-',markersize=20)\n",
    "plt.axis('equal');"
   ]
  },
  {
   "cell_type": "markdown",
   "id": "05b08aa5",
   "metadata": {},
   "source": [
    "## Testing"
   ]
  },
  {
   "cell_type": "code",
   "execution_count": 48,
   "id": "57555cce",
   "metadata": {},
   "outputs": [
    {
     "ename": "AssertionError",
     "evalue": "Number of sides should be positive",
     "output_type": "error",
     "traceback": [
      "\u001b[1;31m---------------------------------------------------------------------------\u001b[0m",
      "\u001b[1;31mAssertionError\u001b[0m                            Traceback (most recent call last)",
      "Input \u001b[1;32mIn [48]\u001b[0m, in \u001b[0;36m<cell line: 3>\u001b[1;34m()\u001b[0m\n\u001b[0;32m      1\u001b[0m \u001b[38;5;28;01mimport\u001b[39;00m \u001b[38;5;21;01mimportlib\u001b[39;00m\n\u001b[0;32m      2\u001b[0m importlib\u001b[38;5;241m.\u001b[39mreload(relo)\n\u001b[1;32m----> 3\u001b[0m sides\u001b[38;5;241m=\u001b[39m\u001b[43mrelo\u001b[49m\u001b[38;5;241;43m.\u001b[39;49m\u001b[43mregular_polygon_Relo\u001b[49m\u001b[43m(\u001b[49m\u001b[38;5;241;43m4\u001b[39;49m\u001b[43m)\u001b[49m\n",
      "File \u001b[1;32m~\\Documents\\km2\\relo.py:5\u001b[0m, in \u001b[0;36mregular_polygon_Relo\u001b[1;34m(n, center, r, N)\u001b[0m\n\u001b[0;32m      3\u001b[0m \u001b[38;5;28;01mdef\u001b[39;00m \u001b[38;5;21mregular_polygon_Relo\u001b[39m(n: \u001b[38;5;28mint\u001b[39m\u001b[38;5;241m=\u001b[39m\u001b[38;5;241m3\u001b[39m,center: \u001b[38;5;124m'\u001b[39m\u001b[38;5;124mndarray\u001b[39m\u001b[38;5;124m'\u001b[39m\u001b[38;5;241m=\u001b[39mnp\u001b[38;5;241m.\u001b[39marray([\u001b[38;5;241m0\u001b[39m,\u001b[38;5;241m0\u001b[39m]) ,r: \u001b[38;5;28mint\u001b[39m\u001b[38;5;241m=\u001b[39m\u001b[38;5;241m1\u001b[39m,N:\u001b[38;5;28mint\u001b[39m \u001b[38;5;241m=\u001b[39m\u001b[38;5;241m100\u001b[39m)\u001b[38;5;241m-\u001b[39m\u001b[38;5;241m>\u001b[39m\u001b[38;5;124m'\u001b[39m\u001b[38;5;124mmatrix\u001b[39m\u001b[38;5;124m'\u001b[39m:\n\u001b[0;32m      4\u001b[0m     \u001b[38;5;124;03m\"\"\"Строит многоугольник Рело\"\"\"\u001b[39;00m\n\u001b[1;32m----> 5\u001b[0m     \u001b[38;5;28;01massert\u001b[39;00m n\u001b[38;5;241m%\u001b[39m\u001b[38;5;241m2\u001b[39m\u001b[38;5;241m==\u001b[39m\u001b[38;5;241m1\u001b[39m, \u001b[38;5;124m'\u001b[39m\u001b[38;5;124mNumber of sides should be positive\u001b[39m\u001b[38;5;124m'\u001b[39m\n\u001b[0;32m      6\u001b[0m     \u001b[38;5;28;01massert\u001b[39;00m n\u001b[38;5;241m>\u001b[39m\u001b[38;5;241m2\u001b[39m, \u001b[38;5;124m'\u001b[39m\u001b[38;5;124mNumber of sides should be greater than 2\u001b[39m\u001b[38;5;124m'\u001b[39m\n\u001b[0;32m      7\u001b[0m     \u001b[38;5;28;01massert\u001b[39;00m r\u001b[38;5;241m>\u001b[39m\u001b[38;5;241m0\u001b[39m, \u001b[38;5;124m'\u001b[39m\u001b[38;5;124mr should be greater than 0\u001b[39m\u001b[38;5;124m'\u001b[39m\n",
      "\u001b[1;31mAssertionError\u001b[0m: Number of sides should be positive"
     ]
    }
   ],
   "source": [
    "import importlib\n",
    "importlib.reload(relo)\n",
    "sides=relo.regular_polygon_Relo(4)"
   ]
  },
  {
   "cell_type": "code",
   "execution_count": 49,
   "id": "d7913a30",
   "metadata": {},
   "outputs": [
    {
     "ename": "AssertionError",
     "evalue": "center should be ndarray",
     "output_type": "error",
     "traceback": [
      "\u001b[1;31m---------------------------------------------------------------------------\u001b[0m",
      "\u001b[1;31mAssertionError\u001b[0m                            Traceback (most recent call last)",
      "Input \u001b[1;32mIn [49]\u001b[0m, in \u001b[0;36m<cell line: 1>\u001b[1;34m()\u001b[0m\n\u001b[1;32m----> 1\u001b[0m sides\u001b[38;5;241m=\u001b[39m\u001b[43mrelo\u001b[49m\u001b[38;5;241;43m.\u001b[39;49m\u001b[43mregular_polygon_Relo\u001b[49m\u001b[43m(\u001b[49m\u001b[38;5;241;43m5\u001b[39;49m\u001b[43m,\u001b[49m\u001b[38;5;241;43m4\u001b[39;49m\u001b[43m)\u001b[49m\n",
      "File \u001b[1;32m~\\Documents\\km2\\relo.py:11\u001b[0m, in \u001b[0;36mregular_polygon_Relo\u001b[1;34m(n, center, r, N)\u001b[0m\n\u001b[0;32m      9\u001b[0m \u001b[38;5;28;01massert\u001b[39;00m \u001b[38;5;28misinstance\u001b[39m(r,\u001b[38;5;28mint\u001b[39m), \u001b[38;5;124m'\u001b[39m\u001b[38;5;124mr should be integer\u001b[39m\u001b[38;5;124m'\u001b[39m\n\u001b[0;32m     10\u001b[0m \u001b[38;5;28;01massert\u001b[39;00m \u001b[38;5;28misinstance\u001b[39m(n,\u001b[38;5;28mint\u001b[39m), \u001b[38;5;124m'\u001b[39m\u001b[38;5;124mn should be integer\u001b[39m\u001b[38;5;124m'\u001b[39m \n\u001b[1;32m---> 11\u001b[0m l \u001b[38;5;241m=\u001b[39m \u001b[38;5;241m2\u001b[39m\u001b[38;5;241m*\u001b[39mr\u001b[38;5;241m*\u001b[39mnp\u001b[38;5;241m.\u001b[39msin(np\u001b[38;5;241m.\u001b[39mpi\u001b[38;5;241m/\u001b[39m(\u001b[38;5;241m2\u001b[39m\u001b[38;5;241m*\u001b[39mn))\n\u001b[0;32m     12\u001b[0m R \u001b[38;5;241m=\u001b[39m l\u001b[38;5;241m/\u001b[39m(\u001b[38;5;241m2\u001b[39m\u001b[38;5;241m*\u001b[39mnp\u001b[38;5;241m.\u001b[39msin(np\u001b[38;5;241m.\u001b[39mpi\u001b[38;5;241m/\u001b[39mn))\n\u001b[0;32m     13\u001b[0m alpha \u001b[38;5;241m=\u001b[39m \u001b[38;5;241m2\u001b[39m\u001b[38;5;241m*\u001b[39mnp\u001b[38;5;241m.\u001b[39mpi\u001b[38;5;241m/\u001b[39mn \n",
      "\u001b[1;31mAssertionError\u001b[0m: center should be ndarray"
     ]
    }
   ],
   "source": [
    "sides=relo.regular_polygon_Relo(5,4)"
   ]
  },
  {
   "cell_type": "code",
   "execution_count": 87,
   "id": "897dd6dc",
   "metadata": {},
   "outputs": [
    {
     "data": {
      "image/png": "[encoded data removed]",
      "text/plain": [
       "<Figure size 432x288 with 1 Axes>"
      ]
     },
     "metadata": {
      "needs_background": "light"
     },
     "output_type": "display_data"
    }
   ],
   "source": [
    "sides1=relo.regular_polygon_Relo(5,np.array([0,0]),3,200)\n",
    "sides2=relo.regular_polygon_Relo(center=np.array([1,1]),r=4,N=150,n=7)\n",
    "sides3=relo.regular_polygon_Relo(3,center=np.array([3,4]),r=5,N=150)\n",
    "sides4=relo.regular_polygon_Relo()\n",
    "plt.plot(sides1[:,0],sides1[:,1],'r-',markersize=20)\n",
    "plt.plot(sides2[:,0],sides2[:,1],'b-',markersize=20)\n",
    "plt.plot(sides3[:,0],sides3[:,1],'y-',markersize=20)\n",
    "plt.plot(sides4[:,0],sides4[:,1],'m-',markersize=20)\n",
    "plt.axis('equal');"
   ]
  },
  {
   "cell_type": "code",
   "execution_count": 69,
   "id": "9b9e88a7",
   "metadata": {},
   "outputs": [],
   "source": [
    "\n"
   ]
  },
  {
   "cell_type": "code",
   "execution_count": null,
   "id": "0686e294",
   "metadata": {},
   "outputs": [],
   "source": []
  }
 ],
 "metadata": {
  "kernelspec": {
   "display_name": "Python 3 (ipykernel)",
   "language": "python",
   "name": "python3"
  },
  "language_info": {
   "codemirror_mode": {
    "name": "ipython",
    "version": 3
   },
   "file_extension": ".py",
   "mimetype": "text/x-python",
   "name": "python",
   "nbconvert_exporter": "python",
   "pygments_lexer": "ipython3",
   "version": "3.9.12"
  }
 },
 "nbformat": 4,
 "nbformat_minor": 5
}
