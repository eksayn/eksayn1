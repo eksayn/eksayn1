{
 "cells": [
  {
   "cell_type": "code",
   "execution_count": 3,
   "id": "a61b15d3",
   "metadata": {},
   "outputs": [
    {
     "data": {
      "text/plain": [
       "3000"
      ]
     },
     "execution_count": 3,
     "metadata": {},
     "output_type": "execute_result"
    }
   ],
   "source": [
    "import sys\n",
    "sys.getrecursionlimit()"
   ]
  },
  {
   "cell_type": "code",
   "execution_count": 4,
   "id": "e73141dd",
   "metadata": {},
   "outputs": [
    {
     "data": {
      "text/plain": [
       "[1, 2, 3, 4, 5, 6, 7]"
      ]
     },
     "execution_count": 4,
     "metadata": {},
     "output_type": "execute_result"
    }
   ],
   "source": [
    "it_list = [[1],[2,[3]],[[[[[4]]]]],5,6,7]\n",
    "def flatten_list_v1(nested_obj):\n",
    "    result = [] # список где храним результат                                 \n",
    "    if isinstance(nested_obj,list): #проверяет список ли текущий тип данных            \n",
    "        for item in nested_obj: # проходит по элементам текущего списка                 \n",
    "            result += flatten_list_v1(item) # рекурсия\n",
    "    else:                                       \n",
    "        result += [nested_obj] #добавляет элемент в список                  \n",
    "    return result\n",
    "flatten_list_v1(it_list)"
   ]
  },
  {
   "cell_type": "code",
   "execution_count": 5,
   "id": "11205eeb",
   "metadata": {},
   "outputs": [
    {
     "data": {
      "text/plain": [
       "[1, 2, 3, 4, 5, 6, 7]"
      ]
     },
     "execution_count": 5,
     "metadata": {},
     "output_type": "execute_result"
    }
   ],
   "source": [
    "#1 вариант\n",
    "def flatten_list_v2(nested_obj):\n",
    "                                    \n",
    "    if isinstance(nested_obj,list): #проверяет список ли текущий тип данных            \n",
    "        for item in nested_obj: # проходит по элементам текущего списка                 \n",
    "            for j in flatten_list_v2(item):\n",
    "                yield j\n",
    "    else:                                       \n",
    "        yield nested_obj #добавляет элемент в список                  \n",
    "    \n",
    "[x for x in flatten_list_v2(it_list)]"
   ]
  },
  {
   "cell_type": "code",
   "execution_count": 6,
   "id": "770ca5c3",
   "metadata": {},
   "outputs": [
    {
     "data": {
      "text/plain": [
       "[1, 2, 3, 4, 5, 6, 7]"
      ]
     },
     "execution_count": 6,
     "metadata": {},
     "output_type": "execute_result"
    }
   ],
   "source": [
    "#2 вариант\n",
    "def flatten_list_v2(nested_obj):\n",
    "                                   \n",
    "    if isinstance(nested_obj,list): #проверяет список ли текущий тип данных            \n",
    "        for item in nested_obj: # проходит по элементам текущего списка                 \n",
    "            yield from (flatten_list_v1(item)) # рекурсия\n",
    "    else:                                       \n",
    "        yield nested_obj #добавляет элемент в список                  \n",
    "    \n",
    "[x for x in flatten_list_v2(it_list)]"
   ]
  },
  {
   "cell_type": "code",
   "execution_count": 7,
   "id": "8687b507",
   "metadata": {},
   "outputs": [
    {
     "name": "stdout",
     "output_type": "stream",
     "text": [
      "[1, 2, 3, 4, 5, 6, 7]\n",
      "[1, 2, 3, 4, 5, 6, 7]\n",
      "None\n"
     ]
    }
   ],
   "source": [
    "\n",
    "def flatten_list(nested_obj, gen=False):\n",
    "    \"\"\" Возвращает либо список из элементов вложенных списков без сохранения структуры, если \n",
    "    gen=False , либо возвращает генераторный объект,если gen=True\"\"\"\n",
    "    if gen==True:\n",
    "        def flatten_list_v2(nested_obj):\n",
    "\n",
    "            if isinstance(nested_obj,list): #проверяет список ли текущий тип данных            \n",
    "                for item in nested_obj: # проходит по элементам текущего списка                 \n",
    "                    yield from (flatten_list_v2(item)) # рекурсия\n",
    "            else:                                       \n",
    "                yield nested_obj #добавляет элемент в список\n",
    "        return flatten_list_v2(nested_obj)\n",
    "    elif gen==False:\n",
    "        def flatten_list_v1(nested_obj):\n",
    "            result = [] # список где храним результат                                 \n",
    "            if isinstance(nested_obj,list): #проверяет список ли текущий тип данных            \n",
    "                for item in nested_obj: # проходит по элементам текущего списка                 \n",
    "                    result += flatten_list_v1(item) # рекурсия\n",
    "            else:                                       \n",
    "                result += [nested_obj] #добавляет элемент в список                 \n",
    "            return result\n",
    "        return flatten_list_v1(nested_obj)\n",
    "print(flatten_list(it_list))   \n",
    "print([i for i in flatten_list(it_list,True)])\n",
    "print(flatten_list(it_list,'abc'))"
   ]
  },
  {
   "cell_type": "code",
   "execution_count": 8,
   "id": "11bb7277",
   "metadata": {},
   "outputs": [
    {
     "data": {
      "text/plain": [
       "[[[1], [2, [3]], [[[[[4]]]]], 5, 6, 7],\n",
       " ((7, 8), 9, 10),\n",
       " 'abcdefgh',\n",
       " {'key1': 11, 'key2': {'key3': 12}},\n",
       " <generator object <genexpr> at 0x000001C63F676B30>,\n",
       " <_io.TextIOWrapper name='flatten_file.txt' mode='r' encoding='cp1252'>]"
      ]
     },
     "execution_count": 8,
     "metadata": {},
     "output_type": "execute_result"
    }
   ],
   "source": [
    "it_tuple = (((7),(8)),(9),10)\n",
    "it_str = \"abcdefgh\"\n",
    "it_dict = {\"key1\": 11, \"key2\": {\"key3\": 12}}\n",
    "it_gen = ([i,i**2,i**3] for i in range(5))\n",
    "it_file = open(\"flatten_file.txt\")\n",
    "it = [it_list, it_tuple, it_str, it_dict, it_gen, it_file]\n",
    "['__iter__' in dir(x) for x in it]\n",
    "[hasattr(x, '__iter__') for x in it]\n",
    "it"
   ]
  },
  {
   "cell_type": "code",
   "execution_count": 9,
   "id": "138d5a63",
   "metadata": {},
   "outputs": [
    {
     "name": "stdout",
     "output_type": "stream",
     "text": [
      "[1, 2, 3, 4, 5, 6, 7, 7, 8, 9, 10, 'abcdefgh', 'key1', 11, 'key2', 'key3', 12, 0, 0, 0, 1, 1, 1, 2, 4, 8, 3, 9, 27, 4, 16, 64, 'fnsugnsiuegisdf']\n"
     ]
    }
   ],
   "source": [
    "def flatten_it_v1(nested_obj):\n",
    "    result = []\n",
    "    if isinstance (nested_obj ,str):\n",
    "        result+=[nested_obj ]\n",
    "    elif isinstance (nested_obj ,dict):\n",
    "        for key,value in nested_obj .items():\n",
    "            result+=flatten_it_v1((key,value))\n",
    "    elif hasattr(nested_obj, '__iter__'):         \n",
    "        for item in nested_obj: # проходит по элементам текущего списка                 \n",
    "            result += flatten_it_v1(item) # рекурсия\n",
    "    else:                                      \n",
    "        result += [nested_obj]                  \n",
    "    return result\n",
    "print(flatten_it_v1(it))"
   ]
  },
  {
   "cell_type": "code",
   "execution_count": 10,
   "id": "89b049f8",
   "metadata": {},
   "outputs": [
    {
     "name": "stdout",
     "output_type": "stream",
     "text": [
      "[1, 2, 3, 4, 5, 6, 7, 7, 8, 9, 10, 'abcdefgh', 'key1', 11, 'key2', 'key3', 12]\n"
     ]
    }
   ],
   "source": [
    "def flatten_it_v2(nested_obj):\n",
    "    \n",
    "    if isinstance (nested_obj ,str):\n",
    "        yield nested_obj\n",
    "    elif isinstance (nested_obj ,dict):\n",
    "        for key,value in nested_obj .items():\n",
    "            yield from (flatten_it_v2((key,value)))\n",
    "    elif hasattr(nested_obj, '__iter__'):         \n",
    "        for item in nested_obj: # проходит по элементам текущего списка                 \n",
    "            yield from (flatten_it_v2(item)) # рекурсия\n",
    "    else:                                      \n",
    "        yield nested_obj                 \n",
    "    \n",
    "print([i for i in flatten_it_v2(it)])\n",
    "        "
   ]
  },
  {
   "cell_type": "code",
   "execution_count": 11,
   "id": "06de8812",
   "metadata": {},
   "outputs": [
    {
     "name": "stdout",
     "output_type": "stream",
     "text": [
      "[1, 2, 3, 4, 5, 6, 7, 7, 8, 9, 10, 'abcdefgh', 'key1', 11, 'key2', 'key3', 12]\n",
      "[1, 2, 3, 4, 5, 6, 7, 7, 8, 9, 10, 'abcdefgh', 'key1', 11, 'key2', 'key3', 12]\n",
      "None\n"
     ]
    }
   ],
   "source": [
    "def flatten_it(nested_obj, gen=False):\n",
    "    \"\"\" Возвращает либо список из элементов вложенных списков без сохранения структуры, если \n",
    "    gen=False , либо возвращает генераторный объект,если gen=True\"\"\"\n",
    "    if gen==True:\n",
    "        def flatten_it_v2(nested_obj):\n",
    "\n",
    "            if isinstance (nested_obj ,str):\n",
    "                yield nested_obj\n",
    "            elif isinstance (nested_obj ,dict):\n",
    "                for key,value in nested_obj.items():\n",
    "                    if value is nested_obj:              \n",
    "                        raise ValueError(\"Cyclic dictionary is found\")\n",
    "                    else:\n",
    "                        yield from (flatten_it_v2((key,value)))\n",
    "            elif hasattr(nested_obj, '__iter__'):         \n",
    "                for item in nested_obj: # проходит по элементам текущего списка  \n",
    "                    if item is nested_obj:              \n",
    "                        raise ValueError(\"Cyclic list is found\")\n",
    "                    else:\n",
    "                        yield from (flatten_it_v2(item)) # рекурсия\n",
    "            else:                                      \n",
    "                yield nested_obj                 \n",
    "        return flatten_it_v2(nested_obj)\n",
    "    elif gen==False:\n",
    "        def flatten_it_v1(nested_obj):\n",
    "            result = []\n",
    "            if isinstance (nested_obj ,str):\n",
    "                result+=[nested_obj ]\n",
    "            elif isinstance (nested_obj ,dict):\n",
    "                for key,value in nested_obj.items():\n",
    "                    if value is nested_obj:              \n",
    "                        raise ValueError(\"Cyclic dictionary is found\")\n",
    "                    else:\n",
    "                        result+=flatten_it_v1((key,value))\n",
    "            elif hasattr(nested_obj, '__iter__'):         \n",
    "                for item in nested_obj: # проходит по элементам текущего списка\n",
    "                    if item is nested_obj:              \n",
    "                        raise ValueError(\"Cyclic list is found\")\n",
    "                    result += flatten_it_v1(item) # рекурсия\n",
    "            else:                                      \n",
    "                result += [nested_obj]\n",
    "            return result\n",
    "        return flatten_it_v1(nested_obj)\n",
    "try:\n",
    "    print(flatten_it(it))   \n",
    "    print([i for i in flatten_it(it,True)])\n",
    "    print(flatten_it(it,'abc'))\n",
    "except ValueError as e:\n",
    "    print(e)"
   ]
  },
  {
   "cell_type": "code",
   "execution_count": 12,
   "id": "88f0052c",
   "metadata": {},
   "outputs": [],
   "source": [
    "it_list_cyclic = it_list[:] \n",
    "it_list_cyclic.append(it_list_cyclic) "
   ]
  },
  {
   "cell_type": "code",
   "execution_count": 13,
   "id": "d19fe927",
   "metadata": {},
   "outputs": [
    {
     "ename": "ValueError",
     "evalue": "Cyclic list is found",
     "output_type": "error",
     "traceback": [
      "\u001b[1;31m---------------------------------------------------------------------------\u001b[0m",
      "\u001b[1;31mValueError\u001b[0m                                Traceback (most recent call last)",
      "Input \u001b[1;32mIn [13]\u001b[0m, in \u001b[0;36m<cell line: 13>\u001b[1;34m()\u001b[0m\n\u001b[0;32m     11\u001b[0m     \u001b[38;5;28;01mreturn\u001b[39;00m result\n\u001b[0;32m     12\u001b[0m flatten_list_v1(it_list)\n\u001b[1;32m---> 13\u001b[0m \u001b[43mflatten_list_v1\u001b[49m\u001b[43m(\u001b[49m\u001b[43mit_list_cyclic\u001b[49m\u001b[43m)\u001b[49m\n",
      "Input \u001b[1;32mIn [13]\u001b[0m, in \u001b[0;36mflatten_list_v1\u001b[1;34m(nested_obj)\u001b[0m\n\u001b[0;32m      4\u001b[0m \u001b[38;5;28;01mfor\u001b[39;00m item \u001b[38;5;129;01min\u001b[39;00m nested_obj: \u001b[38;5;66;03m# проходит по элементам текущего списка  \u001b[39;00m\n\u001b[0;32m      5\u001b[0m     \u001b[38;5;28;01mif\u001b[39;00m item \u001b[38;5;129;01mis\u001b[39;00m nested_obj:              \n\u001b[1;32m----> 6\u001b[0m         \u001b[38;5;28;01mraise\u001b[39;00m \u001b[38;5;167;01mValueError\u001b[39;00m(\u001b[38;5;124m\"\u001b[39m\u001b[38;5;124mCyclic list is found\u001b[39m\u001b[38;5;124m\"\u001b[39m)\n\u001b[0;32m      7\u001b[0m     \u001b[38;5;28;01melse\u001b[39;00m:\n\u001b[0;32m      8\u001b[0m         result \u001b[38;5;241m+\u001b[39m\u001b[38;5;241m=\u001b[39m flatten_list_v1(item) \u001b[38;5;66;03m# рекурсия\u001b[39;00m\n",
      "\u001b[1;31mValueError\u001b[0m: Cyclic list is found"
     ]
    }
   ],
   "source": [
    "\n",
    "def flatten_list_v1(nested_obj):\n",
    "    result = [] # список где храним результат                                 \n",
    "    if isinstance(nested_obj,list): #проверяет список ли текущий тип данных            \n",
    "        for item in nested_obj: # проходит по элементам текущего списка  \n",
    "            if item is nested_obj:              \n",
    "                raise ValueError(\"Cyclic list is found\")\n",
    "            else:\n",
    "                result += flatten_list_v1(item) # рекурсия\n",
    "    else:                                       \n",
    "        result += [nested_obj] #добавляет элемент в список                  \n",
    "    return result\n",
    "flatten_list_v1(it_list)\n",
    "flatten_list_v1(it_list_cyclic)"
   ]
  },
  {
   "cell_type": "code",
   "execution_count": null,
   "id": "cebd2e5b",
   "metadata": {},
   "outputs": [],
   "source": [
    "\n",
    "try:\n",
    "    print(flatten_list_v1(it_list_cyclic))\n",
    "except ValueError as e:\n",
    "    print(e)"
   ]
  },
  {
   "cell_type": "markdown",
   "id": "fe43912a",
   "metadata": {},
   "source": [
    "## Testing"
   ]
  },
  {
   "cell_type": "code",
   "execution_count": null,
   "id": "7f86d231",
   "metadata": {},
   "outputs": [],
   "source": [
    "try:\n",
    "    print(flatten_it(it_list_cyclic))   \n",
    "    \n",
    "\n",
    "except ValueError as e:\n",
    "    print(e)"
   ]
  },
  {
   "cell_type": "code",
   "execution_count": null,
   "id": "5eb6689a",
   "metadata": {},
   "outputs": [],
   "source": [
    "try:\n",
    "   \n",
    "    print([i for i in flatten_it(it_list_cyclic,True)])\n",
    "\n",
    "except ValueError as e:\n",
    "    print(e)"
   ]
  },
  {
   "cell_type": "code",
   "execution_count": 14,
   "id": "e88240e6",
   "metadata": {},
   "outputs": [
    {
     "name": "stdout",
     "output_type": "stream",
     "text": [
      "Cyclic list is found\n"
     ]
    }
   ],
   "source": [
    "\n",
    "try:\n",
    " \n",
    "    print(flatten_it(it_list_cyclic,False))\n",
    "except ValueError as e:\n",
    "    print(e)"
   ]
  },
  {
   "cell_type": "code",
   "execution_count": 15,
   "id": "925cb8ba",
   "metadata": {},
   "outputs": [
    {
     "name": "stdout",
     "output_type": "stream",
     "text": [
      "{'a': 1, 'b': {...}}\n"
     ]
    }
   ],
   "source": [
    "\n",
    "test_cyclic = {'a' : 1}\n",
    "test_cyclic['b'] = test_cyclic\n",
    "print(test_cyclic)"
   ]
  },
  {
   "cell_type": "code",
   "execution_count": 17,
   "id": "e2e71f3c",
   "metadata": {},
   "outputs": [
    {
     "name": "stdout",
     "output_type": "stream",
     "text": [
      "Cyclic dictionary is found\n"
     ]
    }
   ],
   "source": [
    "\n",
    "try:\n",
    "    print(flatten_it(test_cyclic,False))\n",
    "except ValueError as e:\n",
    "    print(e)\n",
    "    \n",
    "# Проверка на рекурсию if value is nested_obj работает только для прямых ссылок, но не для сложных циклов.\n",
    "#Т.е в нашем случае получается непрямая циклические ссылка вида( a -> b -> a) и мы никак не может получить значение\n",
    "#т.к постоянно получаем в значении словарь {2 : test_cyclic}\n",
    "#можно пофиксить если заменить на     if value is {2 : test_cyclic}"
   ]
  },
  {
   "cell_type": "code",
   "execution_count": null,
   "id": "00e04da6",
   "metadata": {},
   "outputs": [],
   "source": []
  }
 ],
 "metadata": {
  "kernelspec": {
   "display_name": "Python 3 (ipykernel)",
   "language": "python",
   "name": "python3"
  },
  "language_info": {
   "codemirror_mode": {
    "name": "ipython",
    "version": 3
   },
   "file_extension": ".py",
   "mimetype": "text/x-python",
   "name": "python",
   "nbconvert_exporter": "python",
   "pygments_lexer": "ipython3",
   "version": "3.9.12"
  }
 },
 "nbformat": 4,
 "nbformat_minor": 5
}
