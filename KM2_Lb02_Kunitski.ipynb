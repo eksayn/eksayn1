{
 "cells": [
  {
   "cell_type": "markdown",
   "id": "b28d100e",
   "metadata": {},
   "source": [
    "# Лабораторная работа 1\n",
    "## Задача о падении тела. Построение графиков функций"
   ]
  },
  {
   "cell_type": "markdown",
   "id": "71af0785",
   "metadata": {},
   "source": [
    "## Куницкий Тимофей Александрович, 13.03.2025"
   ]
  },
  {
   "cell_type": "markdown",
   "id": "91c3808b",
   "metadata": {},
   "source": [
    "## Задание 1"
   ]
  },
  {
   "cell_type": "markdown",
   "id": "630dd0a5",
   "metadata": {},
   "source": [
    "![Иерархия встроенных типов Python](image1.png)"
   ]
  },
  {
   "cell_type": "markdown",
   "id": "55d3b476",
   "metadata": {},
   "source": [
    "# Задание 2.1 \n",
    "## Проработка примеров, представленных в лекционном файле"
   ]
  },
  {
   "cell_type": "markdown",
   "id": "6c1cfb3b",
   "metadata": {},
   "source": [
    "# Задание 2.2 \n",
    "## Решение заданий"
   ]
  },
  {
   "cell_type": "markdown",
   "id": "04c64125",
   "metadata": {},
   "source": [
    "#### 2.2 Встроенные типы объектов, представляющих числа"
   ]
  },
  {
   "cell_type": "code",
   "execution_count": 1,
   "id": "41b6c3f0",
   "metadata": {},
   "outputs": [
    {
     "name": "stdout",
     "output_type": "stream",
     "text": [
      "0.3 0.30000000000000004\n",
      "0.1 0.1\n",
      "0.02 0.020000000000000004\n",
      "2 2.0\n"
     ]
    }
   ],
   "source": [
    "import decimal as dec\n",
    "a = dec.Decimal('0.2')\n",
    "b = dec.Decimal('0.1')\n",
    "print(a+b, 0.2+0.1)\n",
    "print(a-b, 0.2-0.1)\n",
    "print(a*b, 0.2*0.1)\n",
    "print(a/b, 0.2/0.1)\n"
   ]
  },
  {
   "cell_type": "code",
   "execution_count": 2,
   "id": "2aca8da9",
   "metadata": {},
   "outputs": [
    {
     "name": "stdout",
     "output_type": "stream",
     "text": [
      "0.5833333333333333 7/12 7/12\n",
      "31/10\n",
      "11/10\n"
     ]
    }
   ],
   "source": [
    "import fractions as fr\n",
    "print(1/3 + 1/4, fr.Fraction(1,3)+fr.Fraction(1,4), fr.Fraction('1/3')+fr.Fraction(1/4))\n",
    "print(fr.Fraction('3.1'))\n",
    "print(fr.Fraction(dec.Decimal('1.1')))"
   ]
  },
  {
   "cell_type": "markdown",
   "id": "473056d8",
   "metadata": {},
   "source": [
    "#### 2.3 Встроенные типы последовательностей: str, list, tuple"
   ]
  },
  {
   "cell_type": "code",
   "execution_count": 3,
   "id": "ca1245b5",
   "metadata": {},
   "outputs": [
    {
     "name": "stdout",
     "output_type": "stream",
     "text": [
      "slam\n"
     ]
    }
   ],
   "source": [
    "#нарезание и контекатенация\n",
    "s='spam'\n",
    "s=s[:1]+'l'+s[2:]\n",
    "print(s)"
   ]
  },
  {
   "cell_type": "code",
   "execution_count": 4,
   "id": "94d4c2ab",
   "metadata": {},
   "outputs": [
    {
     "name": "stdout",
     "output_type": "stream",
     "text": [
      "slam\n"
     ]
    }
   ],
   "source": [
    "#индексация и контекатенация\n",
    "s='spam'\n",
    "s=s[0]+'l'+s[2:]\n",
    "print(s)"
   ]
  },
  {
   "cell_type": "code",
   "execution_count": 5,
   "id": "b954ea2d",
   "metadata": {},
   "outputs": [
    {
     "ename": "TypeError",
     "evalue": "'str' object does not support item assignment",
     "output_type": "error",
     "traceback": [
      "\u001b[1;31m---------------------------------------------------------------------------\u001b[0m",
      "\u001b[1;31mTypeError\u001b[0m                                 Traceback (most recent call last)",
      "Input \u001b[1;32mIn [5]\u001b[0m, in \u001b[0;36m<cell line: 3>\u001b[1;34m()\u001b[0m\n\u001b[0;32m      1\u001b[0m \u001b[38;5;66;03m#просто присовить по иднексу нельзя, т.к строка неизменяемый объект (immutable)\u001b[39;00m\n\u001b[0;32m      2\u001b[0m s\u001b[38;5;241m=\u001b[39m\u001b[38;5;124m'\u001b[39m\u001b[38;5;124mspam\u001b[39m\u001b[38;5;124m'\u001b[39m\n\u001b[1;32m----> 3\u001b[0m s[\u001b[38;5;241m1\u001b[39m]\u001b[38;5;241m=\u001b[39m\u001b[38;5;124m'\u001b[39m\u001b[38;5;124ml\u001b[39m\u001b[38;5;124m'\u001b[39m\n\u001b[0;32m      4\u001b[0m \u001b[38;5;28mprint\u001b[39m(s)\n",
      "\u001b[1;31mTypeError\u001b[0m: 'str' object does not support item assignment"
     ]
    }
   ],
   "source": [
    "#просто присовить по иднексу нельзя, т.к строка неизменяемый объект (immutable)\n",
    "s='spam'\n",
    "s[1]='l'\n",
    "print(s)"
   ]
  },
  {
   "cell_type": "code",
   "execution_count": null,
   "id": "c1032ec0",
   "metadata": {},
   "outputs": [],
   "source": [
    "#Для списка присваивание по индексу работает, т.к он изменяемый\n",
    "l = list('spam')\n",
    "l[1]='l'\n",
    "print(l)\n",
    "#срезы не работают, т.к список нельзля сложить с другим объектом\n",
    "l1 = list('spam')\n",
    "l1= l1[0]+['l']+l1[2:]\n",
    "l1"
   ]
  },
  {
   "cell_type": "code",
   "execution_count": null,
   "id": "52647467",
   "metadata": {},
   "outputs": [],
   "source": [
    "#tuple - неизменяемый\n",
    "t = tuple('spam')\n",
    "t[1]='l'\n",
    "print(t)\n"
   ]
  },
  {
   "cell_type": "code",
   "execution_count": null,
   "id": "f16b29fe",
   "metadata": {
    "scrolled": true
   },
   "outputs": [],
   "source": [
    "#для котрожей аналогичная проблема\n",
    "t1 = tuple('spam')\n",
    "t1 = t1[0]+('l',)+t1[2:]"
   ]
  },
  {
   "cell_type": "markdown",
   "id": "d481356a",
   "metadata": {},
   "source": [
    "#### 2.4 Встроенный тип отображения: dict"
   ]
  },
  {
   "cell_type": "code",
   "execution_count": null,
   "id": "0548133c",
   "metadata": {},
   "outputs": [],
   "source": [
    "# Самым осмысленным будет словарь, т.к к значениям можно обращяться по ключам ,а не по индексам"
   ]
  },
  {
   "cell_type": "code",
   "execution_count": null,
   "id": "f9aae2fc",
   "metadata": {},
   "outputs": [],
   "source": [
    "db = {'name':'Timofey','patronymic':'Aleksandrovich', 'surname':'Kunitski', 'adress':'No information',\n",
    "'age':17,'work':'crypta','email':'xxxx@mail.ru','phone':'+37529679578'}\n",
    "db['phone']"
   ]
  },
  {
   "cell_type": "markdown",
   "id": "8e0ccd46",
   "metadata": {},
   "source": [
    "#### 2.5 Встроенный тип множества: set"
   ]
  },
  {
   "cell_type": "code",
   "execution_count": null,
   "id": "d09aea48",
   "metadata": {},
   "outputs": [],
   "source": [
    "s = 'abbcc'\n",
    "print(sorted(set(s)))\n",
    "print(''.join(sorted(set(s))))"
   ]
  },
  {
   "cell_type": "markdown",
   "id": "efa40006",
   "metadata": {},
   "source": [
    "#### 2.8. Интерфейс объекта: операции и методы"
   ]
  },
  {
   "cell_type": "code",
   "execution_count": null,
   "id": "1c330c44",
   "metadata": {},
   "outputs": [],
   "source": [
    "#count\n",
    "l = ['abc','asd','abc','afg']\n",
    "print(l.count('abc'))\n",
    "t = tuple('abcdbb')\n",
    "print(t.count('b'))\n",
    "s='abcc'\n",
    "print(s.count('c'))\n",
    "\n",
    "\n",
    "# для отслаьных типов не определено"
   ]
  },
  {
   "cell_type": "code",
   "execution_count": null,
   "id": "305034f1",
   "metadata": {},
   "outputs": [],
   "source": [
    "#index\n",
    "l = ['abc','asd','abc','afg']\n",
    "print(l.index('abc')) \n",
    "t = tuple('abcdbb')\n",
    "print(t.index('b'))\n",
    "s='abcc'\n",
    "print(s.index('c'))\n",
    "\n",
    "# не определено для других типов"
   ]
  },
  {
   "cell_type": "code",
   "execution_count": null,
   "id": "66be2689",
   "metadata": {},
   "outputs": [],
   "source": [
    "dir(str)\n",
    "#?str.capitalize\n",
    "#?str.find\n",
    "#?str.endswith\n",
    "print('AAaaaAAaaAa'.capitalize())\n",
    "print('xyxy'.find('y'))\n",
    "print('aef3'.endswith('3'))"
   ]
  },
  {
   "cell_type": "code",
   "execution_count": 7,
   "id": "b96ba23f",
   "metadata": {},
   "outputs": [
    {
     "name": "stdout",
     "output_type": "stream",
     "text": [
      "[1, 2, 3, 4]\n",
      "[5, 1, 2, 3, 4]\n",
      "[5, 1, 2, 3, 4, 0, 9]\n",
      "[5, 1, 2, 3, 4, 0, 9, 8, 7]\n",
      "[5, 1, 2, 3, 4, 0, 9, 8, 7, '1', '2', '3']\n"
     ]
    }
   ],
   "source": [
    "#dir(list)\n",
    "l = [1,2,3]\n",
    "l.append(4)\n",
    "print(l)\n",
    "l.insert(0,5)\n",
    "print(l)\n",
    "l.extend([0,9])\n",
    "print(l)\n",
    "l.extend({7,8})\n",
    "print(l)\n",
    "l.extend('123')\n",
    "print(l)"
   ]
  },
  {
   "cell_type": "code",
   "execution_count": 8,
   "id": "3a9d181e",
   "metadata": {},
   "outputs": [
    {
     "name": "stdout",
     "output_type": "stream",
     "text": [
      "['abc', 'bc', 'a']\n"
     ]
    }
   ],
   "source": [
    "l = ['a','bc','abc']\n",
    "l.sort(reverse=True, key = len)\n",
    "print(l)"
   ]
  },
  {
   "cell_type": "markdown",
   "id": "2167e81b",
   "metadata": {},
   "source": [
    "Получили отсортированный по длине строк списко по убыванию"
   ]
  },
  {
   "cell_type": "code",
   "execution_count": 11,
   "id": "8aca2138",
   "metadata": {},
   "outputs": [],
   "source": [
    "dict1 = dict.fromkeys(range(100), 'a')\n"
   ]
  },
  {
   "cell_type": "markdown",
   "id": "5ac22eee",
   "metadata": {},
   "source": [
    "#### 2.9 Переменная"
   ]
  },
  {
   "cell_type": "code",
   "execution_count": 17,
   "id": "709b38de",
   "metadata": {},
   "outputs": [
    {
     "name": "stdout",
     "output_type": "stream",
     "text": [
      "[1, 2, [...]]\n",
      "[1, 2, [...]]\n",
      "[1, 2, [...]]\n"
     ]
    }
   ],
   "source": [
    "a = [1,2]; a.append(a)\n",
    "\n",
    "for i in a:\n",
    "    print(a)"
   ]
  },
  {
   "cell_type": "code",
   "execution_count": 20,
   "id": "afc7d089",
   "metadata": {},
   "outputs": [
    {
     "data": {
      "text/plain": [
       "{'a', 'b', 'c'}"
      ]
     },
     "execution_count": 20,
     "metadata": {},
     "output_type": "execute_result"
    }
   ],
   "source": [
    "a=set('abc')\n",
    "a.update(a)\n",
    "a"
   ]
  },
  {
   "cell_type": "markdown",
   "id": "fa900862",
   "metadata": {},
   "source": [
    "для set ничего не меняется"
   ]
  },
  {
   "cell_type": "code",
   "execution_count": 22,
   "id": "2a1b491d",
   "metadata": {},
   "outputs": [
    {
     "data": {
      "text/plain": [
       "{'x': 2, 'y': 4, 'a': {...}}"
      ]
     },
     "execution_count": 22,
     "metadata": {},
     "output_type": "execute_result"
    }
   ],
   "source": [
    "a={'x':2,'y':4}\n",
    "a['a']=a\n",
    "a"
   ]
  },
  {
   "cell_type": "code",
   "execution_count": 27,
   "id": "1bfe5f9e",
   "metadata": {},
   "outputs": [
    {
     "data": {
      "text/plain": [
       "([0, 1, 2, (...)],)"
      ]
     },
     "execution_count": 27,
     "metadata": {},
     "output_type": "execute_result"
    }
   ],
   "source": [
    "a=[i for i in range(3)],\n",
    "a[0].append(a)\n",
    "a"
   ]
  },
  {
   "cell_type": "code",
   "execution_count": 41,
   "id": "ae715c1f",
   "metadata": {},
   "outputs": [
    {
     "data": {
      "text/plain": [
       "5"
      ]
     },
     "execution_count": 41,
     "metadata": {},
     "output_type": "execute_result"
    }
   ],
   "source": [
    "import sys\n",
    "f1=f2=f3=f4='73994'\n",
    "sys.getrefcount(d)"
   ]
  },
  {
   "cell_type": "code",
   "execution_count": 43,
   "id": "d07cc1ff",
   "metadata": {},
   "outputs": [
    {
     "name": "stdout",
     "output_type": "stream",
     "text": [
      "[1, 2, 3] [1, 2, 3]\n"
     ]
    }
   ],
   "source": [
    "l=[1,2,3]\n",
    "n=l[:]\n",
    "print(l,n)\n"
   ]
  },
  {
   "cell_type": "code",
   "execution_count": 44,
   "id": "860583f6",
   "metadata": {},
   "outputs": [
    {
     "name": "stdout",
     "output_type": "stream",
     "text": [
      "[1, 2, 3] [1, 2, 3]\n"
     ]
    }
   ],
   "source": [
    "n2=l.copy()\n",
    "print(l,n2)"
   ]
  },
  {
   "cell_type": "code",
   "execution_count": 48,
   "id": "78b07d4a",
   "metadata": {},
   "outputs": [
    {
     "name": "stdout",
     "output_type": "stream",
     "text": [
      "[1, 2, 3] [1, 2, 3]\n"
     ]
    }
   ],
   "source": [
    "n3=l.__class__(l)\n",
    "print(l,n3)"
   ]
  },
  {
   "cell_type": "markdown",
   "id": "00dc6856",
   "metadata": {},
   "source": [
    "#### 2.10 Выражение спискового включения"
   ]
  },
  {
   "cell_type": "code",
   "execution_count": 49,
   "id": "2dd9d718",
   "metadata": {},
   "outputs": [
    {
     "data": {
      "text/plain": [
       "{'a', 'c', 'd'}"
      ]
     },
     "execution_count": 49,
     "metadata": {},
     "output_type": "execute_result"
    }
   ],
   "source": [
    "{x for x in 'abcd' if x!='b'}"
   ]
  },
  {
   "cell_type": "code",
   "execution_count": 51,
   "id": "b05febf5",
   "metadata": {},
   "outputs": [
    {
     "data": {
      "text/plain": [
       "[['00', '01', '02', '03', '04', '05', '06', '07', '08'],\n",
       " ['10', '11', '12', '13', '14', '15', '16', '17', '18'],\n",
       " ['20', '21', '22', '23', '24', '25', '26', '27', '28'],\n",
       " ['30', '31', '32', '33', '34', '35', '36', '37', '38'],\n",
       " ['40', '41', '42', '43', '44', '45', '46', '47', '48'],\n",
       " ['50', '51', '52', '53', '54', '55', '56', '57', '58'],\n",
       " ['60', '61', '62', '63', '64', '65', '66', '67', '68'],\n",
       " ['70', '71', '72', '73', '74', '75', '76', '77', '78']]"
      ]
     },
     "execution_count": 51,
     "metadata": {},
     "output_type": "execute_result"
    }
   ],
   "source": [
    "[[f'{i}{j}' for j in range(9)] for i in range(8)]"
   ]
  },
  {
   "cell_type": "code",
   "execution_count": 55,
   "id": "c45a6326",
   "metadata": {},
   "outputs": [
    {
     "data": {
      "text/plain": [
       "[['00', '01', '02', '03', '04', '05', '06', '07', '08'],\n",
       " ['10', '11', '12', '13', '14', '15', '16', '17', '18'],\n",
       " ['20', '21', '22', '23', '24', '25', '26', '27', '28'],\n",
       " ['30', '31', '32', '33', '34', '35', '36', '37', '38'],\n",
       " ['40', '41', '42', '43', '44', '45', '46', '47', '48'],\n",
       " ['50', '51', '52', '53', '54', '55', '56', '57', '58'],\n",
       " ['60', '61', '62', '63', '64', '65', '66', '67', '68'],\n",
       " ['70', '71', '72', '73', '74', '75', '76', '77', '78']]"
      ]
     },
     "execution_count": 55,
     "metadata": {},
     "output_type": "execute_result"
    }
   ],
   "source": [
    "import numpy as np\n",
    "[[f'{i}{j}' for j in np.arange(9)] for i in np.arange(8)]"
   ]
  },
  {
   "cell_type": "code",
   "execution_count": 56,
   "id": "108e9a6b",
   "metadata": {},
   "outputs": [
    {
     "data": {
      "text/plain": [
       "{'one': ['1', '2', '3'], 'two': ['1', '2', '3'], 'three': ['1', '2', '3']}"
      ]
     },
     "execution_count": 56,
     "metadata": {},
     "output_type": "execute_result"
    }
   ],
   "source": [
    "{i: [x for x in '123'] for i in ['one', 'two', 'three']}"
   ]
  },
  {
   "cell_type": "code",
   "execution_count": 58,
   "id": "0d89464f",
   "metadata": {},
   "outputs": [
    {
     "name": "stdout",
     "output_type": "stream",
     "text": [
      "nhsrng 2 esfse 0.123\n"
     ]
    }
   ],
   "source": [
    "v=2\n",
    "f=0.123456\n",
    "print(f'nhsrng {v} esfse {f:.3}')"
   ]
  },
  {
   "cell_type": "code",
   "execution_count": 64,
   "id": "6340f428",
   "metadata": {},
   "outputs": [
    {
     "data": {
      "text/plain": [
       "'wad 2 fes12.35% rdhesg'"
      ]
     },
     "execution_count": 64,
     "metadata": {},
     "output_type": "execute_result"
    }
   ],
   "source": [
    "\"wad {} fes{:.2%} rdhesg\".format(v,f)"
   ]
  },
  {
   "cell_type": "code",
   "execution_count": 70,
   "id": "4834ff55",
   "metadata": {},
   "outputs": [
    {
     "data": {
      "text/plain": [
       "'fsef  2 fesf 0.12% fesf'"
      ]
     },
     "execution_count": 70,
     "metadata": {},
     "output_type": "execute_result"
    }
   ],
   "source": [
    "\"fsef %2.f fesf %.2f%% fesf\"%(v,f)"
   ]
  },
  {
   "cell_type": "markdown",
   "id": "c08f49cc",
   "metadata": {},
   "source": [
    "#### 2.12 Файловый объект"
   ]
  },
  {
   "cell_type": "code",
   "execution_count": 86,
   "id": "d0f2b1fd",
   "metadata": {},
   "outputs": [
    {
     "name": "stdout",
     "output_type": "stream",
     "text": [
      " I like this town\n",
      "\n"
     ]
    }
   ],
   "source": [
    "file = open('test.txt','a')\n",
    "file.write(' I like this town' + '\\n')\n",
    "file.close()\n",
    "file = open('test.txt')\n",
    "print(file.read())\n",
    "file.close()"
   ]
  },
  {
   "cell_type": "code",
   "execution_count": 87,
   "id": "cec0ddbc",
   "metadata": {},
   "outputs": [
    {
     "name": "stdout",
     "output_type": "stream",
     "text": [
      " I like this town\n",
      " And I want to visit it \n",
      "\n"
     ]
    }
   ],
   "source": [
    "file = open('test.txt','a') \n",
    "file.writelines([' And I want ', 'to visit it \\n'])\n",
    "file.close()\n",
    "file = open('test.txt','r')\n",
    "print(file.read())\n",
    "file.close()"
   ]
  },
  {
   "cell_type": "code",
   "execution_count": 88,
   "id": "d65eaa6b",
   "metadata": {},
   "outputs": [
    {
     "name": "stdout",
     "output_type": "stream",
     "text": [
      " I like this town\n",
      " And I want to visit it \n"
     ]
    }
   ],
   "source": [
    "with open('test.txt') as file:\n",
    "    for line in file:\n",
    "        print(line, end=\"\")"
   ]
  },
  {
   "cell_type": "markdown",
   "id": "6c0cbca3",
   "metadata": {},
   "source": [
    "# Задание 2.3\n",
    "## Исправление ошибок"
   ]
  },
  {
   "cell_type": "markdown",
   "id": "c57149e3",
   "metadata": {},
   "source": [
    "# Ошибка 1"
   ]
  },
  {
   "cell_type": "code",
   "execution_count": 89,
   "id": "6353de78",
   "metadata": {},
   "outputs": [
    {
     "name": "stdout",
     "output_type": "stream",
     "text": [
      "\\c Æ\n"
     ]
    }
   ],
   "source": [
    "print('\\c \\xc6')"
   ]
  },
  {
   "cell_type": "code",
   "execution_count": 95,
   "id": "a631c151",
   "metadata": {},
   "outputs": [
    {
     "data": {
      "text/plain": [
       "{'gdrg': {...}}"
      ]
     },
     "execution_count": 95,
     "metadata": {},
     "output_type": "execute_result"
    }
   ],
   "source": [
    "a = {}\n",
    "a['gdrg']=a\n",
    "a"
   ]
  },
  {
   "cell_type": "code",
   "execution_count": null,
   "id": "bddb3d43",
   "metadata": {},
   "outputs": [],
   "source": []
  }
 ],
 "metadata": {
  "kernelspec": {
   "display_name": "Python 3 (ipykernel)",
   "language": "python",
   "name": "python3"
  },
  "language_info": {
   "codemirror_mode": {
    "name": "ipython",
    "version": 3
   },
   "file_extension": ".py",
   "mimetype": "text/x-python",
   "name": "python",
   "nbconvert_exporter": "python",
   "pygments_lexer": "ipython3",
   "version": "3.9.12"
  }
 },
 "nbformat": 4,
 "nbformat_minor": 5
}
