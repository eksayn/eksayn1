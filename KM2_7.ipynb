{
 "cells": [
  {
   "cell_type": "code",
   "execution_count": 5,
   "id": "05905967",
   "metadata": {},
   "outputs": [
    {
     "name": "stdout",
     "output_type": "stream",
     "text": [
      "(*, 5, (*, 6, *))\n"
     ]
    }
   ],
   "source": [
    "class BinaryTree:\n",
    "    def __init__(self):\n",
    "        self.root = EmptyNode() # создаёт пустой корень\n",
    "        \n",
    "    def __repr__(self):\n",
    "        return repr(self.root) # выводит \n",
    "        \n",
    "    def insert(self, value):\n",
    "        self.root = self.root.insert(value) \n",
    "class BinaryNode:\n",
    "    def __init__(self, left, value, right):\n",
    "        self.left = left\n",
    "        self.value = value\n",
    "        self.right = right\n",
    "    def __repr__(self):\n",
    "        return f'({self.left}, {self.value}, {self.right})' \n",
    "    def insert(self,value):\n",
    "        if value<self.value:\n",
    "            self.left=self.left.insert(value)\n",
    "        elif value>=self.value:\n",
    "            self.right=self.right.insert(value)\n",
    "        return self\n",
    "class EmptyNode:        \n",
    "    def __repr__(self):\n",
    "        return '*'\n",
    "    def insert(self, value):\n",
    "        return BinaryNode(self, value, self)\n",
    "\n",
    "t=BinaryTree()\n",
    "t.insert(5)\n",
    "t.insert(6)\n",
    "print(t)\n",
    "it1='ghabc'\n",
    "it2=range(5)\n",
    "it3=[1,6,3,4,8,3]\n",
    "tree1=BinaryTree()\n",
    "for i in it1:\n",
    "    tree1.insert(i)\n",
    "print(tree1)\n",
    "tree2=BinaryTree()\n",
    "for i in it2:\n",
    "    tree2.insert(i)\n",
    "print(tree2)\n",
    "tree3=BinaryTree()\n",
    "for i in it3:\n",
    "    tree3.insert(i)\n",
    "print(tree3)\n",
    "\n",
    "\n",
    "\n"
   ]
  },
  {
   "cell_type": "code",
   "execution_count": 35,
   "id": "10342b8d",
   "metadata": {},
   "outputs": [
    {
     "name": "stdout",
     "output_type": "stream",
     "text": [
      "[5, 7, 5, 3, 2, 4, 5, 7, 8, 95, 3, 2, 4]\n",
      "[[ 5.  7.  3.  2.  7.  9. 35.  6.  2.]\n",
      " [12. 34.  8.  9. 45. 89. 18. 37. 29.]]\n",
      "[3, 4, 7, 84, 2, 4, 55, 6, 23, 5, 7, 8, 3, 4, 5, 3, 8, 9, 9]\n",
      "[5, 7, 5, 3, 2, 4, 5, 7, 8, 95, 3, 2, 4]\n"
     ]
    }
   ],
   "source": [
    "import numpy as np\n",
    "import json\n",
    "with open('numbers1.txt','r') as f:\n",
    "    numbers1=[int(i) for i in f]\n",
    "print(numbers1)\n",
    "numbers2=np.loadtxt('numbers2.txt')\n",
    "print(numbers2)\n",
    "with open('numbers3.txt','r') as f:\n",
    "    res=f.read().split()\n",
    "    numbers3=[int(i) for i in res]\n",
    "print(numbers3)\n",
    "\n",
    "with open('numbers4.json','r') as f:\n",
    "    res=json.load(f)['values']\n",
    "print(res)"
   ]
  },
  {
   "cell_type": "code",
   "execution_count": 37,
   "id": "34bc1003",
   "metadata": {},
   "outputs": [
    {
     "name": "stdout",
     "output_type": "stream",
     "text": [
      "(*, 5, *)\n",
      "((*, 1, *), 5, *)\n",
      "((*, 1, *), 5, (*, 10, *))\n",
      "((*, 1, (*, 3, *)), 5, (*, 10, *))\n",
      "((*, 1, (*, 3, (*, 4, *))), 5, (*, 10, *))\n",
      "(0, False) (1, True) (2, False) (3, True) (4, True) (5, True) (6, False) (7, False) (8, False) (9, False) "
     ]
    }
   ],
   "source": [
    "class BinaryTree:\n",
    "    def __init__(self):\n",
    "        self.root = EmptyNode() \n",
    "        \n",
    "    def __repr__(self):\n",
    "        return repr(self.root) \n",
    "        \n",
    "    def insert(self, value):\n",
    "        self.root = self.root.insert(value) \n",
    "    def __contains__(self,value):\n",
    "        return value in self.root\n",
    "class BinaryNode:\n",
    "    def __init__(self, left, value, right):\n",
    "        self.left = left\n",
    "        self.value = value\n",
    "        self.right = right\n",
    "    def __repr__(self):\n",
    "        return f'({self.left}, {self.value}, {self.right})' \n",
    "    def insert(self,value):\n",
    "        if value<self.value:\n",
    "            self.left=self.left.insert(value)\n",
    "        elif value>=self.value:\n",
    "            self.right=self.right.insert(value)\n",
    "        return self\n",
    "    def __contains__(self,value):\n",
    "        if value==self.value:\n",
    "            return True\n",
    "        elif value<self.value:\n",
    "            return value in self.left\n",
    "        elif value>self.value:\n",
    "            return value in self.right\n",
    "class EmptyNode:        \n",
    "    def __repr__(self):\n",
    "        return '*'\n",
    "    def insert(self, value):\n",
    "        return BinaryNode(self, value, self)\n",
    "    def __contains__(self,value):\n",
    "        return False\n",
    "    \n",
    "source_data = [5,1,10,3,4]\n",
    "tree = BinaryTree()\n",
    "for i in source_data:\n",
    "    tree.insert(i)\n",
    "    print(tree)\n",
    "for i in range(10):\n",
    "    print((i, i in tree), end = ' ')"
   ]
  },
  {
   "cell_type": "code",
   "execution_count": 14,
   "id": "d6a0a1f0",
   "metadata": {},
   "outputs": [
    {
     "data": {
      "text/plain": [
       "2"
      ]
     },
     "execution_count": 14,
     "metadata": {},
     "output_type": "execute_result"
    }
   ],
   "source": [
    "class BinaryNode:\n",
    "    \n",
    "    numberOfNodes=0\n",
    "    def __init__(self, left, value, right):\n",
    "        self.left = left\n",
    "        self.value = value\n",
    "        self.right = right\n",
    "        BinaryNode.numberOfNodes+=1\n",
    "    def __repr__(self):\n",
    "        return f'({self.left}, {self.value}, {self.right})' \n",
    "    def insert(self,value):\n",
    "        if value<self.value:\n",
    "            self.left=self.left.insert(value)\n",
    "        elif value>=self.value:\n",
    "            self.right=self.right.insert(value)\n",
    "        return self\n",
    "    def __contains__(self,value):\n",
    "        if value==self.value:\n",
    "            return True\n",
    "        elif value<self.value:\n",
    "            return value in self.left\n",
    "        elif value>self.value:\n",
    "            return value in self.right\n",
    "    def __len__(self):\n",
    "        return BinaryNode.numberOfNodes\n",
    "class EmptyNode:        \n",
    "    def __repr__(self):\n",
    "        return '*'\n",
    "    def insert(self, value):\n",
    "        return BinaryNode(self, value, self)\n",
    "    def __contains__(self,value):\n",
    "        return False\n",
    "    def __len__(self):\n",
    "        return 0\n",
    "class BinaryTree:\n",
    "    BinaryNode.numberOfNodes = 0\n",
    "    def __init__(self):\n",
    "        self.root = EmptyNode() \n",
    "    def __repr__(self):\n",
    "        return repr(self.root) \n",
    "        \n",
    "    def insert(self, value):\n",
    "        self.root = self.root.insert(value) \n",
    "    def __contains__(self,value):\n",
    "        return value in self.root\n",
    "    def __len__(self):\n",
    "        return len(self.root)\n",
    "    \n",
    "\n",
    "\n",
    "source_data = [1,2]\n",
    "tree = BinaryTree()\n",
    "for i in source_data:\n",
    "    tree.insert(i)\n",
    "tree\n",
    "len(tree)"
   ]
  },
  {
   "cell_type": "code",
   "execution_count": null,
   "id": "ce067a54",
   "metadata": {},
   "outputs": [],
   "source": []
  }
 ],
 "metadata": {
  "kernelspec": {
   "display_name": "Python 3 (ipykernel)",
   "language": "python",
   "name": "python3"
  },
  "language_info": {
   "codemirror_mode": {
    "name": "ipython",
    "version": 3
   },
   "file_extension": ".py",
   "mimetype": "text/x-python",
   "name": "python",
   "nbconvert_exporter": "python",
   "pygments_lexer": "ipython3",
   "version": "3.9.12"
  }
 },
 "nbformat": 4,
 "nbformat_minor": 5
}
